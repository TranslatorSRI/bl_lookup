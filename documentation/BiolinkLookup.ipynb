{
 "cells": [
  {
   "cell_type": "markdown",
   "metadata": {
    "slideshow": {
     "slide_type": "slide"
    }
   },
   "source": [
    "# Biolink Lookup"
   ]
  },
  {
   "cell_type": "markdown",
   "metadata": {
    "slideshow": {
     "slide_type": "slide"
    }
   },
   "source": [
    "## Introduction\n",
    "\n",
    "The Biolink Model defines a set of common concepts for use in Translator.  These include semantic types for entities, as well as the relations between them.  These concepts are organized into an inheritance hierarchy capturing different granularities of description. Furthermore, each concept contains metadata relating the concept to ontologies.\n",
    "\n",
    "The Biolink Model is formally maintained in Github [here](http://github.com/biolink/biolink-model/).  The Biolink Lookup [service](https://bl-lookup-sri.renci.org/apidocs/) provides a computational interface to the model, including access to previous versions.   When the service is deployed, it queries the Biolink Github repository, and updates itself to access the latest version."
   ]
  },
  {
   "cell_type": "markdown",
   "metadata": {
    "slideshow": {
     "slide_type": "slide"
    }
   },
   "source": [
    "## Versions\n",
    "\n",
    "Because the service allows access to multiple versions of Biolink, this function returns the list of versions that can passed as a parameter to subsequent calls.  In principle there may be versions such as: \n",
    "* **latest** which always points to the current master branch.\n",
    "* **1.3.9** a previous version\n",
    "* **custom** which is a special tag pointing at a branch of the model."
   ]
  },
  {
   "cell_type": "code",
   "execution_count": 1,
   "metadata": {
    "slideshow": {
     "slide_type": "subslide"
    }
   },
   "outputs": [
    {
     "name": "stdout",
     "output_type": "stream",
     "text": [
      "[\n",
      "  \"1.3.9\",\n",
      "  \"1.4.0\",\n",
      "  \"1.5.0\",\n",
      "  \"1.6.0\",\n",
      "  \"1.7.0\",\n",
      "  \"1.8.0\",\n",
      "  \"latest\"\n",
      "]\n"
     ]
    }
   ],
   "source": [
    "import requests\n",
    "import json\n",
    "response = requests.get('https://bl-lookup-sri.renci.org/versions/')\n",
    "print(json.dumps(response.json(),indent=2))"
   ]
  },
  {
   "cell_type": "markdown",
   "metadata": {
    "slideshow": {
     "slide_type": "slide"
    }
   },
   "source": [
    "## Concept Lookup\n",
    "\n",
    "Biolink concepts can be retrieved to inspect their properties:"
   ]
  },
  {
   "cell_type": "code",
   "execution_count": 2,
   "metadata": {
    "scrolled": true,
    "slideshow": {
     "slide_type": "subslide"
    }
   },
   "outputs": [
    {
     "name": "stdout",
     "output_type": "stream",
     "text": [
      "{\n",
      "  \"name\": \"chemical substance\",\n",
      "  \"id_prefixes\": [\n",
      "    \"PUBCHEM.COMPOUND\",\n",
      "    \"CHEMBL.COMPOUND\",\n",
      "    \"UNII\",\n",
      "    \"CHEBI\",\n",
      "    \"DRUGBANK\",\n",
      "    \"MESH\",\n",
      "    \"CAS\",\n",
      "    \"DrugCentral\",\n",
      "    \"GTOPDB\",\n",
      "    \"HMDB\",\n",
      "    \"KEGG.COMPOUND\",\n",
      "    \"ChemBank\",\n",
      "    \"Aeolus\",\n",
      "    \"PUBCHEM.SUBSTANCE\",\n",
      "    \"SIDER.DRUG\",\n",
      "    \"INCHI\",\n",
      "    \"INCHIKEY\",\n",
      "    \"KEGG.GLYCAN\",\n",
      "    \"KEGG.DRUG\",\n",
      "    \"KEGG.DGROUP\",\n",
      "    \"KEGG.ENVIRON\"\n",
      "  ],\n",
      "  \"definition_uri\": \"https://w3id.org/biolink/vocab/ChemicalSubstance\",\n",
      "  \"aliases\": [],\n",
      "  \"mappings\": [],\n",
      "  \"description\": \"May be a chemical entity or a formulation with a chemical entity as active ingredient, or a complex material with multiple chemical entities as part\",\n",
      "  \"alt_descriptions\": {},\n",
      "  \"deprecated\": null,\n",
      "  \"todos\": [],\n",
      "  \"notes\": [],\n",
      "  \"comments\": [],\n",
      "  \"examples\": [],\n",
      "  \"in_subset\": [\n",
      "    \"model_organism_database\"\n",
      "  ],\n",
      "  \"from_schema\": \"https://w3id.org/biolink/biolink-model\",\n",
      "  \"imported_from\": null,\n",
      "  \"see_also\": [],\n",
      "  \"exact_mappings\": [\n",
      "    \"SIO:010004\",\n",
      "    \"WIKIDATA:Q79529\",\n",
      "    \"UMLSSC:T103\",\n",
      "    \"UMLSST:chem\"\n",
      "  ],\n",
      "  \"close_mappings\": [],\n",
      "  \"related_mappings\": [],\n",
      "  \"narrow_mappings\": [\n",
      "    \"CHEBI:24431\",\n",
      "    \"UMLSSC:T104\",\n",
      "    \"UMLSST:chvs\",\n",
      "    \"UMLSSC:T109\",\n",
      "    \"UMLSST:orch\",\n",
      "    \"UMLSSC:T114\",\n",
      "    \"UMLSST:nnon\",\n",
      "    \"UMLSSC:T120\",\n",
      "    \"UMLSST:chvf\",\n",
      "    \"UMLSSC:T122\",\n",
      "    \"UMLSST:bodm\",\n",
      "    \"UMLSSC:T130\",\n",
      "    \"UMLSST:irda\",\n",
      "    \"UMLSSC:T131\",\n",
      "    \"UMLSST:hops\",\n",
      "    \"UMLSSC:T196\",\n",
      "    \"UMLSST:elii\",\n",
      "    \"UMLSSC:T197\",\n",
      "    \"UMLSST:inch\"\n",
      "  ],\n",
      "  \"broad_mappings\": [\n",
      "    \"UMLSSC:T167\",\n",
      "    \"UMLSST:sbst\"\n",
      "  ],\n",
      "  \"deprecated_element_has_exact_replacement\": null,\n",
      "  \"deprecated_element_has_possible_replacement\": null,\n",
      "  \"extensions\": [],\n",
      "  \"annotations\": [],\n",
      "  \"is_a\": \"molecular entity\",\n",
      "  \"abstract\": null,\n",
      "  \"mixin\": null,\n",
      "  \"mixins\": [\n",
      "    \"ontology class\"\n",
      "  ],\n",
      "  \"apply_to\": [],\n",
      "  \"values_from\": [],\n",
      "  \"created_by\": null,\n",
      "  \"created_on\": null,\n",
      "  \"last_updated_on\": null,\n",
      "  \"modified_by\": null,\n",
      "  \"status\": null,\n",
      "  \"slots\": [\n",
      "    \"id\",\n",
      "    \"iri\",\n",
      "    \"type\",\n",
      "    \"name\",\n",
      "    \"description\",\n",
      "    \"source\",\n",
      "    \"provided by\",\n",
      "    \"has attribute\",\n",
      "    \"named thing_category\",\n",
      "    \"in taxon\",\n",
      "    \"is metabolite\"\n",
      "  ],\n",
      "  \"attributes\": {},\n",
      "  \"class_uri\": \"biolink:ChemicalSubstance\",\n",
      "  \"subclass_of\": null,\n",
      "  \"union_of\": [],\n",
      "  \"defining_slots\": [],\n",
      "  \"tree_root\": null\n",
      "}\n"
     ]
    }
   ],
   "source": [
    "response = requests.get('https://bl-lookup-sri.renci.org/bl/chemical_substance')\n",
    "print( json.dumps(response.json (),indent = 2 ))"
   ]
  },
  {
   "cell_type": "markdown",
   "metadata": {
    "slideshow": {
     "slide_type": "slide"
    }
   },
   "source": [
    "We can look up semantic types, as above, but we can also look up predicates (slot names):"
   ]
  },
  {
   "cell_type": "code",
   "execution_count": 3,
   "metadata": {
    "scrolled": true,
    "slideshow": {
     "slide_type": "subslide"
    }
   },
   "outputs": [
    {
     "name": "stdout",
     "output_type": "stream",
     "text": [
      "{\n",
      "  \"name\": \"causes\",\n",
      "  \"id_prefixes\": [],\n",
      "  \"definition_uri\": \"https://w3id.org/biolink/vocab/causes\",\n",
      "  \"aliases\": [],\n",
      "  \"mappings\": [],\n",
      "  \"description\": \"holds between two entities where the occurrence, existence, or activity of one causes the occurrence or generation of the other\",\n",
      "  \"alt_descriptions\": {},\n",
      "  \"deprecated\": null,\n",
      "  \"todos\": [],\n",
      "  \"notes\": [],\n",
      "  \"comments\": [],\n",
      "  \"examples\": [],\n",
      "  \"in_subset\": [\n",
      "    \"translator_minimal\"\n",
      "  ],\n",
      "  \"from_schema\": \"https://w3id.org/biolink/biolink-model\",\n",
      "  \"imported_from\": null,\n",
      "  \"see_also\": [],\n",
      "  \"exact_mappings\": [\n",
      "    \"RO:0002506\",\n",
      "    \"SEMMEDDB:CAUSES\",\n",
      "    \"SEMMEDDB:causes\",\n",
      "    \"WIKIDATA_PROPERTY:P1542\",\n",
      "    \"SNOMED:cause_of\"\n",
      "  ],\n",
      "  \"close_mappings\": [],\n",
      "  \"related_mappings\": [],\n",
      "  \"narrow_mappings\": [\n",
      "    \"MONDO:disease_triggers\",\n",
      "    \"GOREL:0000040\",\n",
      "    \"MONDO:disease_causes_feature\",\n",
      "    \"MONDO:disease_triggers\",\n",
      "    \"NCIT:allele_has_abnormality\",\n",
      "    \"NCIT:biological_process_has_result_biological_process\",\n",
      "    \"NCIT:chemical_or_drug_has_physiologic_effect\",\n",
      "    \"NCIT:chemical_or_drug_initiates_biological_process\",\n",
      "    \"NCIT:process_initiates_biological_process\",\n",
      "    \"NCIT:chromosome_mapped_to_disease\",\n",
      "    \"NCIT:disease_has_normal_tissue_origin\",\n",
      "    \"OBO:nbo#in_response_to\",\n",
      "    \"ORPHA:317343\",\n",
      "    \"ORPHA:317344\",\n",
      "    \"ORPHA:317346\",\n",
      "    \"ORPHA:410295\",\n",
      "    \"ORPHA:410296\",\n",
      "    \"RO:0002256\",\n",
      "    \"RO:0002315\",\n",
      "    \"RO:0002507\",\n",
      "    \"RO:0002509\",\n",
      "    \"RO:0004001\",\n",
      "    \"RTXKG1:capable_of_part_of\",\n",
      "    \"SNOMED:causative_agent_of\",\n",
      "    \"SNOMED:has_realization\",\n",
      "    \"UMLS:has_physiologic_effect\"\n",
      "  ],\n",
      "  \"broad_mappings\": [\n",
      "    \"RO:0002410\"\n",
      "  ],\n",
      "  \"deprecated_element_has_exact_replacement\": null,\n",
      "  \"deprecated_element_has_possible_replacement\": null,\n",
      "  \"extensions\": [],\n",
      "  \"annotations\": [],\n",
      "  \"is_a\": \"contributes to\",\n",
      "  \"abstract\": null,\n",
      "  \"mixin\": null,\n",
      "  \"mixins\": [],\n",
      "  \"apply_to\": [],\n",
      "  \"values_from\": [],\n",
      "  \"created_by\": null,\n",
      "  \"created_on\": null,\n",
      "  \"last_updated_on\": null,\n",
      "  \"modified_by\": null,\n",
      "  \"status\": null,\n",
      "  \"singular_name\": null,\n",
      "  \"domain\": \"named thing\",\n",
      "  \"range\": \"named thing\",\n",
      "  \"slot_uri\": \"biolink:causes\",\n",
      "  \"multivalued\": true,\n",
      "  \"inherited\": true,\n",
      "  \"readonly\": null,\n",
      "  \"ifabsent\": null,\n",
      "  \"required\": null,\n",
      "  \"inlined\": null,\n",
      "  \"inlined_as_list\": null,\n",
      "  \"key\": null,\n",
      "  \"identifier\": null,\n",
      "  \"alias\": null,\n",
      "  \"owner\": \"causes\",\n",
      "  \"domain_of\": [],\n",
      "  \"subproperty_of\": null,\n",
      "  \"symmetric\": null,\n",
      "  \"inverse\": \"caused by\",\n",
      "  \"is_class_field\": null,\n",
      "  \"role\": null,\n",
      "  \"is_usage_slot\": null,\n",
      "  \"usage_slot_name\": null,\n",
      "  \"minimum_value\": null,\n",
      "  \"maximum_value\": null,\n",
      "  \"pattern\": null,\n",
      "  \"string_serialization\": null\n",
      "}\n"
     ]
    }
   ],
   "source": [
    "response = requests.get('https://bl-lookup-sri.renci.org/bl/causes')\n",
    "print( json.dumps(response.json (),indent = 2 ))"
   ]
  },
  {
   "cell_type": "markdown",
   "metadata": {
    "slideshow": {
     "slide_type": "slide"
    }
   },
   "source": [
    "The query terms are relatively flexible.  Snake case (such as \"process_negatively_regulates_process\") will work, as will the unfixed names (\"process negatively regulates process\")"
   ]
  },
  {
   "cell_type": "code",
   "execution_count": 11,
   "metadata": {
    "scrolled": true,
    "slideshow": {
     "slide_type": "subslide"
    }
   },
   "outputs": [
    {
     "name": "stdout",
     "output_type": "stream",
     "text": [
      "200\n",
      "{\n",
      "  \"name\": \"process negatively regulates process\",\n",
      "  \"id_prefixes\": [],\n",
      "  \"definition_uri\": \"https://w3id.org/biolink/vocab/process_negatively_regulates_process\",\n",
      "  \"aliases\": [],\n",
      "  \"mappings\": [],\n",
      "  \"description\": null,\n",
      "  \"alt_descriptions\": {},\n",
      "  \"deprecated\": null,\n",
      "  \"todos\": [],\n",
      "  \"notes\": [],\n",
      "  \"comments\": [],\n",
      "  \"examples\": [],\n",
      "  \"in_subset\": [],\n",
      "  \"from_schema\": \"https://w3id.org/biolink/biolink-model\",\n",
      "  \"imported_from\": null,\n",
      "  \"see_also\": [],\n",
      "  \"exact_mappings\": [\n",
      "    \"RO:0002212\"\n",
      "  ],\n",
      "  \"close_mappings\": [],\n",
      "  \"related_mappings\": [],\n",
      "  \"narrow_mappings\": [],\n",
      "  \"broad_mappings\": [],\n",
      "  \"deprecated_element_has_exact_replacement\": null,\n",
      "  \"deprecated_element_has_possible_replacement\": null,\n",
      "  \"extensions\": [],\n",
      "  \"annotations\": [],\n",
      "  \"is_a\": \"process regulates process\",\n",
      "  \"abstract\": null,\n",
      "  \"mixin\": null,\n",
      "  \"mixins\": [\n",
      "    \"negatively regulates\"\n",
      "  ],\n",
      "  \"apply_to\": [],\n",
      "  \"values_from\": [],\n",
      "  \"created_by\": null,\n",
      "  \"created_on\": null,\n",
      "  \"last_updated_on\": null,\n",
      "  \"modified_by\": null,\n",
      "  \"status\": null,\n",
      "  \"singular_name\": null,\n",
      "  \"domain\": \"occurrent\",\n",
      "  \"range\": \"occurrent\",\n",
      "  \"slot_uri\": \"biolink:process_negatively_regulates_process\",\n",
      "  \"multivalued\": true,\n",
      "  \"inherited\": true,\n",
      "  \"readonly\": null,\n",
      "  \"ifabsent\": null,\n",
      "  \"required\": null,\n",
      "  \"inlined\": true,\n",
      "  \"inlined_as_list\": null,\n",
      "  \"key\": null,\n",
      "  \"identifier\": null,\n",
      "  \"alias\": null,\n",
      "  \"owner\": \"process negatively regulates process\",\n",
      "  \"domain_of\": [],\n",
      "  \"subproperty_of\": null,\n",
      "  \"symmetric\": null,\n",
      "  \"inverse\": \"process negatively regulated by process\",\n",
      "  \"is_class_field\": null,\n",
      "  \"role\": null,\n",
      "  \"is_usage_slot\": null,\n",
      "  \"usage_slot_name\": null,\n",
      "  \"minimum_value\": null,\n",
      "  \"maximum_value\": null,\n",
      "  \"pattern\": null,\n",
      "  \"string_serialization\": null\n",
      "}\n"
     ]
    }
   ],
   "source": [
    "response = requests.get('https://bl-lookup-sri.renci.org/bl/process negatively regulates process')\n",
    "print( json.dumps(response.json (),indent = 2 ))"
   ]
  },
  {
   "cell_type": "code",
   "execution_count": 12,
   "metadata": {
    "scrolled": true
   },
   "outputs": [
    {
     "name": "stdout",
     "output_type": "stream",
     "text": [
      "{\n",
      "  \"name\": \"process negatively regulates process\",\n",
      "  \"id_prefixes\": [],\n",
      "  \"definition_uri\": \"https://w3id.org/biolink/vocab/process_negatively_regulates_process\",\n",
      "  \"aliases\": [],\n",
      "  \"mappings\": [],\n",
      "  \"description\": null,\n",
      "  \"alt_descriptions\": {},\n",
      "  \"deprecated\": null,\n",
      "  \"todos\": [],\n",
      "  \"notes\": [],\n",
      "  \"comments\": [],\n",
      "  \"examples\": [],\n",
      "  \"in_subset\": [],\n",
      "  \"from_schema\": \"https://w3id.org/biolink/biolink-model\",\n",
      "  \"imported_from\": null,\n",
      "  \"see_also\": [],\n",
      "  \"exact_mappings\": [\n",
      "    \"RO:0002212\"\n",
      "  ],\n",
      "  \"close_mappings\": [],\n",
      "  \"related_mappings\": [],\n",
      "  \"narrow_mappings\": [],\n",
      "  \"broad_mappings\": [],\n",
      "  \"deprecated_element_has_exact_replacement\": null,\n",
      "  \"deprecated_element_has_possible_replacement\": null,\n",
      "  \"extensions\": [],\n",
      "  \"annotations\": [],\n",
      "  \"is_a\": \"process regulates process\",\n",
      "  \"abstract\": null,\n",
      "  \"mixin\": null,\n",
      "  \"mixins\": [\n",
      "    \"negatively regulates\"\n",
      "  ],\n",
      "  \"apply_to\": [],\n",
      "  \"values_from\": [],\n",
      "  \"created_by\": null,\n",
      "  \"created_on\": null,\n",
      "  \"last_updated_on\": null,\n",
      "  \"modified_by\": null,\n",
      "  \"status\": null,\n",
      "  \"singular_name\": null,\n",
      "  \"domain\": \"occurrent\",\n",
      "  \"range\": \"occurrent\",\n",
      "  \"slot_uri\": \"biolink:process_negatively_regulates_process\",\n",
      "  \"multivalued\": true,\n",
      "  \"inherited\": true,\n",
      "  \"readonly\": null,\n",
      "  \"ifabsent\": null,\n",
      "  \"required\": null,\n",
      "  \"inlined\": true,\n",
      "  \"inlined_as_list\": null,\n",
      "  \"key\": null,\n",
      "  \"identifier\": null,\n",
      "  \"alias\": null,\n",
      "  \"owner\": \"process negatively regulates process\",\n",
      "  \"domain_of\": [],\n",
      "  \"subproperty_of\": null,\n",
      "  \"symmetric\": null,\n",
      "  \"inverse\": \"process negatively regulated by process\",\n",
      "  \"is_class_field\": null,\n",
      "  \"role\": null,\n",
      "  \"is_usage_slot\": null,\n",
      "  \"usage_slot_name\": null,\n",
      "  \"minimum_value\": null,\n",
      "  \"maximum_value\": null,\n",
      "  \"pattern\": null,\n",
      "  \"string_serialization\": null\n",
      "}\n"
     ]
    }
   ],
   "source": [
    "response = requests.get('https://bl-lookup-sri.renci.org/bl/process_negatively_regulates_process')\n",
    "print( json.dumps(response.json (),indent = 2 ))"
   ]
  },
  {
   "cell_type": "markdown",
   "metadata": {
    "slideshow": {
     "slide_type": "slide"
    }
   },
   "source": [
    "## Slot Lookup\n",
    "\n",
    "Slots can be identified in Biolink by the `slot_uri` property, but also by `mappings` (for versions before 1.4) or `exact_mappings` for versions >= 1.4.0.  The following function takes an IRI and checks both properties to find a match."
   ]
  },
  {
   "cell_type": "code",
   "execution_count": 13,
   "metadata": {
    "slideshow": {
     "slide_type": "subslide"
    }
   },
   "outputs": [
    {
     "name": "stdout",
     "output_type": "stream",
     "text": [
      "[\n",
      "  {\n",
      "    \"mapping_type\": \"exact\",\n",
      "    \"mapping\": \"biolink:entity_negatively_regulates_entity\"\n",
      "  }\n",
      "]\n"
     ]
    }
   ],
   "source": [
    "response = requests.get('https://bl-lookup-sri.renci.org/uri_lookup/RO:0002449')\n",
    "print( json.dumps(response.json (),indent = 2 ))"
   ]
  },
  {
   "cell_type": "markdown",
   "metadata": {
    "slideshow": {
     "slide_type": "slide"
    }
   },
   "source": [
    "## Ancestors and Descendants\n",
    "\n",
    "Concepts (types and properties) can have superclasses (ancestors) and subclasses (descendants), which can be queried for by entity name.  In addition, the `lineage` function will return both ancestors and descendants.  The returns are the URIs for the entities."
   ]
  },
  {
   "cell_type": "code",
   "execution_count": 18,
   "metadata": {
    "slideshow": {
     "slide_type": "subslide"
    }
   },
   "outputs": [
    {
     "name": "stdout",
     "output_type": "stream",
     "text": [
      "[\n",
      "  \"biolink:MolecularEntity\",\n",
      "  \"biolink:BiologicalEntity\",\n",
      "  \"biolink:NamedThing\",\n",
      "  \"biolink:Entity\"\n",
      "]\n"
     ]
    }
   ],
   "source": [
    "response = requests.get('https://bl-lookup-sri.renci.org/bl/genomic_entity/ancestors')\n",
    "print( json.dumps(response.json (),indent = 2 ))"
   ]
  },
  {
   "cell_type": "code",
   "execution_count": 17,
   "metadata": {
    "slideshow": {
     "slide_type": "subslide"
    }
   },
   "outputs": [
    {
     "name": "stdout",
     "output_type": "stream",
     "text": [
      "[\n",
      "  \"biolink:GenomicEntity\",\n",
      "  \"biolink:Gene\",\n",
      "  \"biolink:SequenceVariant\",\n",
      "  \"biolink:Snv\",\n",
      "  \"biolink:Genotype\",\n",
      "  \"biolink:Transcript\",\n",
      "  \"biolink:RNAProduct\",\n",
      "  \"biolink:RNAProductIsoform\",\n",
      "  \"biolink:NoncodingRNAProduct\",\n",
      "  \"biolink:GenomicBackgroundExposure\",\n",
      "  \"biolink:ReagentTargetedGene\",\n",
      "  \"biolink:Protein\",\n",
      "  \"biolink:ProteinIsoform\",\n",
      "  \"biolink:Haplotype\",\n",
      "  \"biolink:Exon\",\n",
      "  \"biolink:Genome\",\n",
      "  \"biolink:CodingSequence\"\n",
      "]\n"
     ]
    }
   ],
   "source": [
    "response = requests.get('https://bl-lookup-sri.renci.org/bl/genomic_entity/descendants')\n",
    "print( json.dumps(response.json (),indent = 2 ))"
   ]
  },
  {
   "cell_type": "code",
   "execution_count": 19,
   "metadata": {
    "slideshow": {
     "slide_type": "subslide"
    }
   },
   "outputs": [
    {
     "name": "stdout",
     "output_type": "stream",
     "text": [
      "[\n",
      "  \"biolink:MolecularEntity\",\n",
      "  \"biolink:BiologicalEntity\",\n",
      "  \"biolink:NamedThing\",\n",
      "  \"biolink:Entity\",\n",
      "  \"biolink:GenomicEntity\",\n",
      "  \"biolink:Gene\",\n",
      "  \"biolink:SequenceVariant\",\n",
      "  \"biolink:Snv\",\n",
      "  \"biolink:Genotype\",\n",
      "  \"biolink:Transcript\",\n",
      "  \"biolink:RNAProduct\",\n",
      "  \"biolink:RNAProductIsoform\",\n",
      "  \"biolink:NoncodingRNAProduct\",\n",
      "  \"biolink:GenomicBackgroundExposure\",\n",
      "  \"biolink:ReagentTargetedGene\",\n",
      "  \"biolink:Protein\",\n",
      "  \"biolink:ProteinIsoform\",\n",
      "  \"biolink:Haplotype\",\n",
      "  \"biolink:Exon\",\n",
      "  \"biolink:Genome\",\n",
      "  \"biolink:CodingSequence\"\n",
      "]\n"
     ]
    }
   ],
   "source": [
    "response = requests.get('https://bl-lookup-sri.renci.org/bl/genomic_entity/lineage')\n",
    "print( json.dumps(response.json (),indent = 2 ))"
   ]
  },
  {
   "cell_type": "markdown",
   "metadata": {},
   "source": [
    "Any of these calls can be parameterized by version, with `latest` being used by default.  \n",
    "\n",
    "This example shows how to use a different version, in this case `1.3.9`.  Note that in the response, the `biolink:Entity` category is not returned, because this category was added in version 1.4.0. "
   ]
  },
  {
   "cell_type": "code",
   "execution_count": 20,
   "metadata": {},
   "outputs": [
    {
     "name": "stdout",
     "output_type": "stream",
     "text": [
      "[\n",
      "  \"biolink:MolecularEntity\",\n",
      "  \"biolink:BiologicalEntity\",\n",
      "  \"biolink:NamedThing\"\n",
      "]\n"
     ]
    }
   ],
   "source": [
    "response = requests.get('https://bl-lookup-sri.renci.org/bl/chemical_substance/ancestors?version=1.3.9')\n",
    "print( json.dumps(response.json (),indent = 2 ))"
   ]
  },
  {
   "cell_type": "code",
   "execution_count": null,
   "metadata": {},
   "outputs": [],
   "source": []
  }
 ],
 "metadata": {
  "kernelspec": {
   "display_name": "Python 3",
   "language": "python",
   "name": "python3"
  },
  "language_info": {
   "codemirror_mode": {
    "name": "ipython",
    "version": 3
   },
   "file_extension": ".py",
   "mimetype": "text/x-python",
   "name": "python",
   "nbconvert_exporter": "python",
   "pygments_lexer": "ipython3",
   "version": "3.9.1"
  },
  "rise": {
   "scroll": true
  }
 },
 "nbformat": 4,
 "nbformat_minor": 2
}
